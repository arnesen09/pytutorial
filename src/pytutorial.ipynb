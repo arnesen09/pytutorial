{
 "cells": [
  {
   "cell_type": "markdown",
   "metadata": {},
   "source": [
    "### Introduction to Python for Data Analysis\n",
    "**Author: Dane.Arnesen**  \n",
    "**Created: 2017-10-17**  \n",
    "**Intended Audience: New to Python**  \n",
    "\n",
    "**So what is Python?**  \n",
    "Python is general purpose programming language that has been around since the early 90s. Python is an interpreted language (code is executed directly, not compiled) that emphasizes code readability. If you're familiar with languages like Java this will become quickly apparent.\n",
    "\n",
    "In recent years, Python has been gaining popularity in the world of data science. Why? Because, Python is awesome for data manipulation, data visualization, predictive modeling and more...\n",
    "\n",
    "**Getting started**  \n",
    "Python may be used locally on your desktop, in the cloud (AWS or similar platforms), and even on Hadoop (PySpark). For those of you who want to run Python locally, I recommend downloading/installing Anaconda:\n",
    "\n",
    "https://www.anaconda.com/download/\n",
    "\n",
    "Anaconda is a Python data science platform. It comes with a majority of the packages you'll ever need, as well as various tools to work with Python. \n",
    "\n",
    "This particular demo is delivered in a Jupyter notebook. However, Anaconda also comes with a more traditional IDE called Spyder. \n",
    "\n",
    "**Online Resources**  \n",
    "- Free online interactive Python tutorial: https://www.learnpython.org/  \n",
    "- Pandas API reference: https://pandas.pydata.org/pandas-docs/stable/api.html\n",
    "- Numpy API reference: https://docs.scipy.org/doc/numpy-1.13.0/reference/\n",
    "- Seaborn reference: http://seaborn.pydata.org/index.html\n",
    "- Scipy API reference: https://www.scipy.org/\n",
    "- Stack Overflow is your best friend"
   ]
  },
  {
   "cell_type": "markdown",
   "metadata": {},
   "source": [
    "#### Basic commands\n",
    "We'll start with some basics. First, let's import a package called **pandas**. We import pandas and give it an alias 'pd'. Pandas is one of the more common python modules, and it enables you to work with your data as a DataFrame."
   ]
  },
  {
   "cell_type": "code",
   "execution_count": 2,
   "metadata": {
    "collapsed": false
   },
   "outputs": [],
   "source": [
    "# Import packages using the import command. \n",
    "import pandas as pd"
   ]
  },
  {
   "cell_type": "markdown",
   "metadata": {},
   "source": [
    "One of the first things you'll want to do with any data science project is import some data. There are a bunch of ways to do this, but in this tutorial we will use the pandas package. \n",
    "\n",
    "For this tutorial, we will import the Iris dataset. Iris is a benchmark dataset in the data science world. It only has 150 rows and 6 columns, and so it is a good way to test out new code and/or algorithms. "
   ]
  },
  {
   "cell_type": "code",
   "execution_count": 2,
   "metadata": {
    "collapsed": false
   },
   "outputs": [
    {
     "name": "stdout",
     "output_type": "stream",
     "text": [
      "(150, 6)\n"
     ]
    }
   ],
   "source": [
    "# Use Pandas to import a csv file into a dataframe\n",
    "iris = pd.read_csv('data/iris.csv')\n",
    "\n",
    "# Check the dataframe to see how many rows and columns it contains\n",
    "print(iris.shape)"
   ]
  },
  {
   "cell_type": "markdown",
   "metadata": {},
   "source": [
    "Once you've successfully imported your data, the next step is to do some descriptive analysis. First, let's just take a peak at the top 5 rows of the data.\n",
    "\n",
    "You'll notice the dataset has 6 columns, as well as an index."
   ]
  },
  {
   "cell_type": "code",
   "execution_count": 3,
   "metadata": {
    "collapsed": false
   },
   "outputs": [
    {
     "data": {
      "text/html": [
       "<div>\n",
       "<table border=\"1\" class=\"dataframe\">\n",
       "  <thead>\n",
       "    <tr style=\"text-align: right;\">\n",
       "      <th></th>\n",
       "      <th>Id</th>\n",
       "      <th>SepalLengthCm</th>\n",
       "      <th>SepalWidthCm</th>\n",
       "      <th>PetalLengthCm</th>\n",
       "      <th>PetalWidthCm</th>\n",
       "      <th>Species</th>\n",
       "    </tr>\n",
       "  </thead>\n",
       "  <tbody>\n",
       "    <tr>\n",
       "      <th>0</th>\n",
       "      <td>1</td>\n",
       "      <td>5.1</td>\n",
       "      <td>3.5</td>\n",
       "      <td>1.4</td>\n",
       "      <td>0.2</td>\n",
       "      <td>Iris-setosa</td>\n",
       "    </tr>\n",
       "    <tr>\n",
       "      <th>1</th>\n",
       "      <td>2</td>\n",
       "      <td>4.9</td>\n",
       "      <td>3.0</td>\n",
       "      <td>1.4</td>\n",
       "      <td>0.2</td>\n",
       "      <td>Iris-setosa</td>\n",
       "    </tr>\n",
       "    <tr>\n",
       "      <th>2</th>\n",
       "      <td>3</td>\n",
       "      <td>4.7</td>\n",
       "      <td>3.2</td>\n",
       "      <td>1.3</td>\n",
       "      <td>0.2</td>\n",
       "      <td>Iris-setosa</td>\n",
       "    </tr>\n",
       "    <tr>\n",
       "      <th>3</th>\n",
       "      <td>4</td>\n",
       "      <td>4.6</td>\n",
       "      <td>3.1</td>\n",
       "      <td>1.5</td>\n",
       "      <td>0.2</td>\n",
       "      <td>Iris-setosa</td>\n",
       "    </tr>\n",
       "    <tr>\n",
       "      <th>4</th>\n",
       "      <td>5</td>\n",
       "      <td>5.0</td>\n",
       "      <td>3.6</td>\n",
       "      <td>1.4</td>\n",
       "      <td>0.2</td>\n",
       "      <td>Iris-setosa</td>\n",
       "    </tr>\n",
       "  </tbody>\n",
       "</table>\n",
       "</div>"
      ],
      "text/plain": [
       "   Id  SepalLengthCm  SepalWidthCm  PetalLengthCm  PetalWidthCm      Species\n",
       "0   1            5.1           3.5            1.4           0.2  Iris-setosa\n",
       "1   2            4.9           3.0            1.4           0.2  Iris-setosa\n",
       "2   3            4.7           3.2            1.3           0.2  Iris-setosa\n",
       "3   4            4.6           3.1            1.5           0.2  Iris-setosa\n",
       "4   5            5.0           3.6            1.4           0.2  Iris-setosa"
      ]
     },
     "execution_count": 3,
     "metadata": {},
     "output_type": "execute_result"
    }
   ],
   "source": [
    "# Take a peak at the first couple of rows in the dataframe\n",
    "iris.head()"
   ]
  },
  {
   "cell_type": "markdown",
   "metadata": {},
   "source": [
    "If you didn't already know, Iris is a type of flower. There are three different species of the Iris flower: Setosa, Versicolor, and Virginica. The three specicies of Iris may be differentiated by using Sepal Length, Sepal Width, Petal Length, and Petal Width. "
   ]
  },
  {
   "cell_type": "code",
   "execution_count": 4,
   "metadata": {
    "collapsed": false
   },
   "outputs": [
    {
     "data": {
      "text/plain": [
       "Species\n",
       "Iris-setosa        50\n",
       "Iris-versicolor    50\n",
       "Iris-virginica     50\n",
       "Name: Species, dtype: int64"
      ]
     },
     "execution_count": 4,
     "metadata": {},
     "output_type": "execute_result"
    }
   ],
   "source": [
    "# What are the different species of Iris and how many rows are associated with each\n",
    "iris.groupby('Species')['Species'].count()"
   ]
  },
  {
   "cell_type": "code",
   "execution_count": 5,
   "metadata": {
    "collapsed": false
   },
   "outputs": [
    {
     "data": {
      "text/html": [
       "<div>\n",
       "<table border=\"1\" class=\"dataframe\">\n",
       "  <thead>\n",
       "    <tr style=\"text-align: right;\">\n",
       "      <th></th>\n",
       "      <th></th>\n",
       "      <th>SepalLengthCm</th>\n",
       "      <th>SepalWidthCm</th>\n",
       "      <th>PetalLengthCm</th>\n",
       "      <th>PetalWidthCm</th>\n",
       "    </tr>\n",
       "    <tr>\n",
       "      <th>Species</th>\n",
       "      <th></th>\n",
       "      <th></th>\n",
       "      <th></th>\n",
       "      <th></th>\n",
       "      <th></th>\n",
       "    </tr>\n",
       "  </thead>\n",
       "  <tbody>\n",
       "    <tr>\n",
       "      <th rowspan=\"8\" valign=\"top\">Iris-setosa</th>\n",
       "      <th>count</th>\n",
       "      <td>50.000000</td>\n",
       "      <td>50.000000</td>\n",
       "      <td>50.000000</td>\n",
       "      <td>50.000000</td>\n",
       "    </tr>\n",
       "    <tr>\n",
       "      <th>mean</th>\n",
       "      <td>5.006000</td>\n",
       "      <td>3.418000</td>\n",
       "      <td>1.464000</td>\n",
       "      <td>0.244000</td>\n",
       "    </tr>\n",
       "    <tr>\n",
       "      <th>std</th>\n",
       "      <td>0.352490</td>\n",
       "      <td>0.381024</td>\n",
       "      <td>0.173511</td>\n",
       "      <td>0.107210</td>\n",
       "    </tr>\n",
       "    <tr>\n",
       "      <th>min</th>\n",
       "      <td>4.300000</td>\n",
       "      <td>2.300000</td>\n",
       "      <td>1.000000</td>\n",
       "      <td>0.100000</td>\n",
       "    </tr>\n",
       "    <tr>\n",
       "      <th>25%</th>\n",
       "      <td>4.800000</td>\n",
       "      <td>3.125000</td>\n",
       "      <td>1.400000</td>\n",
       "      <td>0.200000</td>\n",
       "    </tr>\n",
       "    <tr>\n",
       "      <th>50%</th>\n",
       "      <td>5.000000</td>\n",
       "      <td>3.400000</td>\n",
       "      <td>1.500000</td>\n",
       "      <td>0.200000</td>\n",
       "    </tr>\n",
       "    <tr>\n",
       "      <th>75%</th>\n",
       "      <td>5.200000</td>\n",
       "      <td>3.675000</td>\n",
       "      <td>1.575000</td>\n",
       "      <td>0.300000</td>\n",
       "    </tr>\n",
       "    <tr>\n",
       "      <th>max</th>\n",
       "      <td>5.800000</td>\n",
       "      <td>4.400000</td>\n",
       "      <td>1.900000</td>\n",
       "      <td>0.600000</td>\n",
       "    </tr>\n",
       "    <tr>\n",
       "      <th rowspan=\"8\" valign=\"top\">Iris-versicolor</th>\n",
       "      <th>count</th>\n",
       "      <td>50.000000</td>\n",
       "      <td>50.000000</td>\n",
       "      <td>50.000000</td>\n",
       "      <td>50.000000</td>\n",
       "    </tr>\n",
       "    <tr>\n",
       "      <th>mean</th>\n",
       "      <td>5.936000</td>\n",
       "      <td>2.770000</td>\n",
       "      <td>4.260000</td>\n",
       "      <td>1.326000</td>\n",
       "    </tr>\n",
       "    <tr>\n",
       "      <th>std</th>\n",
       "      <td>0.516171</td>\n",
       "      <td>0.313798</td>\n",
       "      <td>0.469911</td>\n",
       "      <td>0.197753</td>\n",
       "    </tr>\n",
       "    <tr>\n",
       "      <th>min</th>\n",
       "      <td>4.900000</td>\n",
       "      <td>2.000000</td>\n",
       "      <td>3.000000</td>\n",
       "      <td>1.000000</td>\n",
       "    </tr>\n",
       "    <tr>\n",
       "      <th>25%</th>\n",
       "      <td>5.600000</td>\n",
       "      <td>2.525000</td>\n",
       "      <td>4.000000</td>\n",
       "      <td>1.200000</td>\n",
       "    </tr>\n",
       "    <tr>\n",
       "      <th>50%</th>\n",
       "      <td>5.900000</td>\n",
       "      <td>2.800000</td>\n",
       "      <td>4.350000</td>\n",
       "      <td>1.300000</td>\n",
       "    </tr>\n",
       "    <tr>\n",
       "      <th>75%</th>\n",
       "      <td>6.300000</td>\n",
       "      <td>3.000000</td>\n",
       "      <td>4.600000</td>\n",
       "      <td>1.500000</td>\n",
       "    </tr>\n",
       "    <tr>\n",
       "      <th>max</th>\n",
       "      <td>7.000000</td>\n",
       "      <td>3.400000</td>\n",
       "      <td>5.100000</td>\n",
       "      <td>1.800000</td>\n",
       "    </tr>\n",
       "    <tr>\n",
       "      <th rowspan=\"8\" valign=\"top\">Iris-virginica</th>\n",
       "      <th>count</th>\n",
       "      <td>50.000000</td>\n",
       "      <td>50.000000</td>\n",
       "      <td>50.000000</td>\n",
       "      <td>50.000000</td>\n",
       "    </tr>\n",
       "    <tr>\n",
       "      <th>mean</th>\n",
       "      <td>6.588000</td>\n",
       "      <td>2.974000</td>\n",
       "      <td>5.552000</td>\n",
       "      <td>2.026000</td>\n",
       "    </tr>\n",
       "    <tr>\n",
       "      <th>std</th>\n",
       "      <td>0.635880</td>\n",
       "      <td>0.322497</td>\n",
       "      <td>0.551895</td>\n",
       "      <td>0.274650</td>\n",
       "    </tr>\n",
       "    <tr>\n",
       "      <th>min</th>\n",
       "      <td>4.900000</td>\n",
       "      <td>2.200000</td>\n",
       "      <td>4.500000</td>\n",
       "      <td>1.400000</td>\n",
       "    </tr>\n",
       "    <tr>\n",
       "      <th>25%</th>\n",
       "      <td>6.225000</td>\n",
       "      <td>2.800000</td>\n",
       "      <td>5.100000</td>\n",
       "      <td>1.800000</td>\n",
       "    </tr>\n",
       "    <tr>\n",
       "      <th>50%</th>\n",
       "      <td>6.500000</td>\n",
       "      <td>3.000000</td>\n",
       "      <td>5.550000</td>\n",
       "      <td>2.000000</td>\n",
       "    </tr>\n",
       "    <tr>\n",
       "      <th>75%</th>\n",
       "      <td>6.900000</td>\n",
       "      <td>3.175000</td>\n",
       "      <td>5.875000</td>\n",
       "      <td>2.300000</td>\n",
       "    </tr>\n",
       "    <tr>\n",
       "      <th>max</th>\n",
       "      <td>7.900000</td>\n",
       "      <td>3.800000</td>\n",
       "      <td>6.900000</td>\n",
       "      <td>2.500000</td>\n",
       "    </tr>\n",
       "  </tbody>\n",
       "</table>\n",
       "</div>"
      ],
      "text/plain": [
       "                       SepalLengthCm  SepalWidthCm  PetalLengthCm  \\\n",
       "Species                                                             \n",
       "Iris-setosa     count      50.000000     50.000000      50.000000   \n",
       "                mean        5.006000      3.418000       1.464000   \n",
       "                std         0.352490      0.381024       0.173511   \n",
       "                min         4.300000      2.300000       1.000000   \n",
       "                25%         4.800000      3.125000       1.400000   \n",
       "                50%         5.000000      3.400000       1.500000   \n",
       "                75%         5.200000      3.675000       1.575000   \n",
       "                max         5.800000      4.400000       1.900000   \n",
       "Iris-versicolor count      50.000000     50.000000      50.000000   \n",
       "                mean        5.936000      2.770000       4.260000   \n",
       "                std         0.516171      0.313798       0.469911   \n",
       "                min         4.900000      2.000000       3.000000   \n",
       "                25%         5.600000      2.525000       4.000000   \n",
       "                50%         5.900000      2.800000       4.350000   \n",
       "                75%         6.300000      3.000000       4.600000   \n",
       "                max         7.000000      3.400000       5.100000   \n",
       "Iris-virginica  count      50.000000     50.000000      50.000000   \n",
       "                mean        6.588000      2.974000       5.552000   \n",
       "                std         0.635880      0.322497       0.551895   \n",
       "                min         4.900000      2.200000       4.500000   \n",
       "                25%         6.225000      2.800000       5.100000   \n",
       "                50%         6.500000      3.000000       5.550000   \n",
       "                75%         6.900000      3.175000       5.875000   \n",
       "                max         7.900000      3.800000       6.900000   \n",
       "\n",
       "                       PetalWidthCm  \n",
       "Species                              \n",
       "Iris-setosa     count     50.000000  \n",
       "                mean       0.244000  \n",
       "                std        0.107210  \n",
       "                min        0.100000  \n",
       "                25%        0.200000  \n",
       "                50%        0.200000  \n",
       "                75%        0.300000  \n",
       "                max        0.600000  \n",
       "Iris-versicolor count     50.000000  \n",
       "                mean       1.326000  \n",
       "                std        0.197753  \n",
       "                min        1.000000  \n",
       "                25%        1.200000  \n",
       "                50%        1.300000  \n",
       "                75%        1.500000  \n",
       "                max        1.800000  \n",
       "Iris-virginica  count     50.000000  \n",
       "                mean       2.026000  \n",
       "                std        0.274650  \n",
       "                min        1.400000  \n",
       "                25%        1.800000  \n",
       "                50%        2.000000  \n",
       "                75%        2.300000  \n",
       "                max        2.500000  "
      ]
     },
     "execution_count": 5,
     "metadata": {},
     "output_type": "execute_result"
    }
   ],
   "source": [
    "# Doing some basic descriptives\n",
    "iris.groupby('Species')['SepalLengthCm','SepalWidthCm','PetalLengthCm','PetalWidthCm'].describe()"
   ]
  },
  {
   "cell_type": "markdown",
   "metadata": {},
   "source": [
    "Sometimes you may want to drop certain columns from a dataframe. In this case, I want to drop the Id column because it isn't relevant to the analysis."
   ]
  },
  {
   "cell_type": "code",
   "execution_count": 6,
   "metadata": {
    "collapsed": false
   },
   "outputs": [
    {
     "name": "stdout",
     "output_type": "stream",
     "text": [
      "(150, 5)\n"
     ]
    }
   ],
   "source": [
    "# Dropping the Id column from the dataframe\n",
    "iris.drop(['Id'], inplace=True, axis=1)\n",
    "\n",
    "# Checking the shape of the dataframe\n",
    "print(iris.shape)"
   ]
  },
  {
   "cell_type": "markdown",
   "metadata": {},
   "source": [
    "#### Visualizing your data\n",
    "\n",
    "Often times in an analysis it is helpful to visualize your data. Python has a number of packages to that end. In this tutorial, I will use a package called **seaborn**."
   ]
  },
  {
   "cell_type": "code",
   "execution_count": 7,
   "metadata": {
    "collapsed": true
   },
   "outputs": [],
   "source": [
    "# When using Jupyter notebooks, you have to specify the following command in order to make your plots show up\n",
    "%matplotlib inline\n",
    "\n",
    "# Importing the seaborn package and creating an alias called sns\n",
    "import seaborn as sns\n",
    "\n",
    "# Importing pyplot from the matplotlib package. This will be used for things like tweaking plot size, etc.\n",
    "from matplotlib import pyplot"
   ]
  },
  {
   "cell_type": "markdown",
   "metadata": {},
   "source": [
    "Seaborn has a ton of functions that are awesome for statistical visualization. I'm not going to go into a ton of detail in this tutorial, but feel free to visit the following website on your own time:\n",
    "\n",
    "https://seaborn.pydata.org/index.html\n",
    "\n",
    "Why is visualization important? Do you notice anything in the chart below that wasn't evident in any of the tables above?"
   ]
  },
  {
   "cell_type": "code",
   "execution_count": 8,
   "metadata": {
    "collapsed": false
   },
   "outputs": [
    {
     "data": {
      "text/plain": [
       "<seaborn.axisgrid.PairGrid at 0x8d83f98>"
      ]
     },
     "execution_count": 8,
     "metadata": {},
     "output_type": "execute_result"
    },
    {
     "data": {
      "image/png": "[encoded data removed]",
      "text/plain": [
       "<matplotlib.figure.Figure at 0xa3ac898>"
      ]
     },
     "metadata": {},
     "output_type": "display_data"
    }
   ],
   "source": [
    "# Create a scatterplot matrix\n",
    "sns.pairplot(iris, hue='Species')"
   ]
  },
  {
   "cell_type": "markdown",
   "metadata": {
    "collapsed": true
   },
   "source": [
    "It is also possible to customize a chart's formatting. Here, we'll remove the gray background and make the plot fit into a 10x10 grid. "
   ]
  },
  {
   "cell_type": "code",
   "execution_count": 9,
   "metadata": {
    "collapsed": false
   },
   "outputs": [
    {
     "data": {
      "image/png": "[encoded data removed]",
      "text/plain": [
       "<matplotlib.figure.Figure at 0x8d831d0>"
      ]
     },
     "metadata": {},
     "output_type": "display_data"
    }
   ],
   "source": [
    "# Getting rid of the gray background\n",
    "sns.set_style(\"whitegrid\")\n",
    "\n",
    "# Initializing a pyplot figure with size 10 x 10\n",
    "fig, ax = pyplot.subplots(figsize=(10,10))\n",
    "\n",
    "# Creating a box plot\n",
    "sns.boxplot(x='Species', y='PetalWidthCm', data=iris, ax=ax)\n",
    "\n",
    "# Making the chart a little cleaner to read\n",
    "sns.despine(offset=10, trim=True)"
   ]
  },
  {
   "cell_type": "markdown",
   "metadata": {},
   "source": [
    "#### Subsetting\n",
    "Often times you'll want to look at subsets of your original dataset. Again, there are many different ways to accomplish this task, but I'm going to stick with pandas for this tutorial."
   ]
  },
  {
   "cell_type": "code",
   "execution_count": 10,
   "metadata": {
    "collapsed": false
   },
   "outputs": [
    {
     "name": "stdout",
     "output_type": "stream",
     "text": [
      "(50, 5)\n",
      "(50, 5)\n",
      "(50, 5)\n"
     ]
    }
   ],
   "source": [
    "# Create a new dataframe containing only rows where the Species is Setosa\n",
    "sub1 = iris[iris['Species'] == 'Iris-setosa']\n",
    "\n",
    "# Create a new dataframe containing rows where petal width is less than 1 and petal length is less than 2\n",
    "sub2 = iris[(iris['PetalWidthCm'] < 1) & (iris['PetalLengthCm'] < 2)]\n",
    "\n",
    "# Create a new dataframe containing rows where petal width is less than 1 or petal length is less than 2\n",
    "sub3 = iris[(iris['PetalWidthCm'] < 1) | (iris['PetalLengthCm'] < 2)]\n",
    "\n",
    "print(sub1.shape)\n",
    "print(sub1.shape)\n",
    "print(sub1.shape)"
   ]
  },
  {
   "cell_type": "markdown",
   "metadata": {},
   "source": [
    "**Working with matrices**   \n",
    "It is possible, and often preferable, to work with your data at the matrix level as opposed to the dataframe level. Pandas makes it easy to convert your dataframe to a matrix."
   ]
  },
  {
   "cell_type": "code",
   "execution_count": 11,
   "metadata": {
    "collapsed": false
   },
   "outputs": [
    {
     "name": "stdout",
     "output_type": "stream",
     "text": [
      "[[5.1 3.5 1.4 0.2 'Iris-setosa']\n",
      " [4.9 3.0 1.4 0.2 'Iris-setosa']\n",
      " [4.7 3.2 1.3 0.2 'Iris-setosa']\n",
      " [4.6 3.1 1.5 0.2 'Iris-setosa']\n",
      " [5.0 3.6 1.4 0.2 'Iris-setosa']\n",
      " [5.4 3.9 1.7 0.4 'Iris-setosa']\n",
      " [4.6 3.4 1.4 0.3 'Iris-setosa']\n",
      " [5.0 3.4 1.5 0.2 'Iris-setosa']\n",
      " [4.4 2.9 1.4 0.2 'Iris-setosa']]\n"
     ]
    }
   ],
   "source": [
    "# Converting your dataframe to a matrix\n",
    "iris_mat = iris.as_matrix()\n",
    "\n",
    "# Displaying rows 1-10 and all columns. Note: rows indices start at 0.\n",
    "print(iris_mat[0:9,:])"
   ]
  },
  {
   "cell_type": "code",
   "execution_count": 12,
   "metadata": {
    "collapsed": false
   },
   "outputs": [
    {
     "name": "stdout",
     "output_type": "stream",
     "text": [
      "[5.4 3.4]\n"
     ]
    }
   ],
   "source": [
    "# Display row 21 and the first 2 columns. Note the column indices are not inclusive. \n",
    "print(iris_mat[20,0:2])"
   ]
  },
  {
   "cell_type": "markdown",
   "metadata": {},
   "source": [
    "You can also convert your matrix back to a dataframe."
   ]
  },
  {
   "cell_type": "code",
   "execution_count": 13,
   "metadata": {
    "collapsed": false
   },
   "outputs": [
    {
     "data": {
      "text/html": [
       "<div>\n",
       "<table border=\"1\" class=\"dataframe\">\n",
       "  <thead>\n",
       "    <tr style=\"text-align: right;\">\n",
       "      <th></th>\n",
       "      <th>SepalLength</th>\n",
       "      <th>SepalWidth</th>\n",
       "      <th>PetalLength</th>\n",
       "      <th>PetalWidth</th>\n",
       "      <th>Species</th>\n",
       "    </tr>\n",
       "  </thead>\n",
       "  <tbody>\n",
       "    <tr>\n",
       "      <th>0</th>\n",
       "      <td>5.1</td>\n",
       "      <td>3.5</td>\n",
       "      <td>1.4</td>\n",
       "      <td>0.2</td>\n",
       "      <td>Iris-setosa</td>\n",
       "    </tr>\n",
       "    <tr>\n",
       "      <th>1</th>\n",
       "      <td>4.9</td>\n",
       "      <td>3</td>\n",
       "      <td>1.4</td>\n",
       "      <td>0.2</td>\n",
       "      <td>Iris-setosa</td>\n",
       "    </tr>\n",
       "    <tr>\n",
       "      <th>2</th>\n",
       "      <td>4.7</td>\n",
       "      <td>3.2</td>\n",
       "      <td>1.3</td>\n",
       "      <td>0.2</td>\n",
       "      <td>Iris-setosa</td>\n",
       "    </tr>\n",
       "    <tr>\n",
       "      <th>3</th>\n",
       "      <td>4.6</td>\n",
       "      <td>3.1</td>\n",
       "      <td>1.5</td>\n",
       "      <td>0.2</td>\n",
       "      <td>Iris-setosa</td>\n",
       "    </tr>\n",
       "    <tr>\n",
       "      <th>4</th>\n",
       "      <td>5</td>\n",
       "      <td>3.6</td>\n",
       "      <td>1.4</td>\n",
       "      <td>0.2</td>\n",
       "      <td>Iris-setosa</td>\n",
       "    </tr>\n",
       "    <tr>\n",
       "      <th>5</th>\n",
       "      <td>5.4</td>\n",
       "      <td>3.9</td>\n",
       "      <td>1.7</td>\n",
       "      <td>0.4</td>\n",
       "      <td>Iris-setosa</td>\n",
       "    </tr>\n",
       "    <tr>\n",
       "      <th>6</th>\n",
       "      <td>4.6</td>\n",
       "      <td>3.4</td>\n",
       "      <td>1.4</td>\n",
       "      <td>0.3</td>\n",
       "      <td>Iris-setosa</td>\n",
       "    </tr>\n",
       "    <tr>\n",
       "      <th>7</th>\n",
       "      <td>5</td>\n",
       "      <td>3.4</td>\n",
       "      <td>1.5</td>\n",
       "      <td>0.2</td>\n",
       "      <td>Iris-setosa</td>\n",
       "    </tr>\n",
       "    <tr>\n",
       "      <th>8</th>\n",
       "      <td>4.4</td>\n",
       "      <td>2.9</td>\n",
       "      <td>1.4</td>\n",
       "      <td>0.2</td>\n",
       "      <td>Iris-setosa</td>\n",
       "    </tr>\n",
       "    <tr>\n",
       "      <th>9</th>\n",
       "      <td>4.9</td>\n",
       "      <td>3.1</td>\n",
       "      <td>1.5</td>\n",
       "      <td>0.1</td>\n",
       "      <td>Iris-setosa</td>\n",
       "    </tr>\n",
       "    <tr>\n",
       "      <th>10</th>\n",
       "      <td>5.4</td>\n",
       "      <td>3.7</td>\n",
       "      <td>1.5</td>\n",
       "      <td>0.2</td>\n",
       "      <td>Iris-setosa</td>\n",
       "    </tr>\n",
       "    <tr>\n",
       "      <th>11</th>\n",
       "      <td>4.8</td>\n",
       "      <td>3.4</td>\n",
       "      <td>1.6</td>\n",
       "      <td>0.2</td>\n",
       "      <td>Iris-setosa</td>\n",
       "    </tr>\n",
       "    <tr>\n",
       "      <th>12</th>\n",
       "      <td>4.8</td>\n",
       "      <td>3</td>\n",
       "      <td>1.4</td>\n",
       "      <td>0.1</td>\n",
       "      <td>Iris-setosa</td>\n",
       "    </tr>\n",
       "    <tr>\n",
       "      <th>13</th>\n",
       "      <td>4.3</td>\n",
       "      <td>3</td>\n",
       "      <td>1.1</td>\n",
       "      <td>0.1</td>\n",
       "      <td>Iris-setosa</td>\n",
       "    </tr>\n",
       "    <tr>\n",
       "      <th>14</th>\n",
       "      <td>5.8</td>\n",
       "      <td>4</td>\n",
       "      <td>1.2</td>\n",
       "      <td>0.2</td>\n",
       "      <td>Iris-setosa</td>\n",
       "    </tr>\n",
       "    <tr>\n",
       "      <th>15</th>\n",
       "      <td>5.7</td>\n",
       "      <td>4.4</td>\n",
       "      <td>1.5</td>\n",
       "      <td>0.4</td>\n",
       "      <td>Iris-setosa</td>\n",
       "    </tr>\n",
       "    <tr>\n",
       "      <th>16</th>\n",
       "      <td>5.4</td>\n",
       "      <td>3.9</td>\n",
       "      <td>1.3</td>\n",
       "      <td>0.4</td>\n",
       "      <td>Iris-setosa</td>\n",
       "    </tr>\n",
       "    <tr>\n",
       "      <th>17</th>\n",
       "      <td>5.1</td>\n",
       "      <td>3.5</td>\n",
       "      <td>1.4</td>\n",
       "      <td>0.3</td>\n",
       "      <td>Iris-setosa</td>\n",
       "    </tr>\n",
       "    <tr>\n",
       "      <th>18</th>\n",
       "      <td>5.7</td>\n",
       "      <td>3.8</td>\n",
       "      <td>1.7</td>\n",
       "      <td>0.3</td>\n",
       "      <td>Iris-setosa</td>\n",
       "    </tr>\n",
       "    <tr>\n",
       "      <th>19</th>\n",
       "      <td>5.1</td>\n",
       "      <td>3.8</td>\n",
       "      <td>1.5</td>\n",
       "      <td>0.3</td>\n",
       "      <td>Iris-setosa</td>\n",
       "    </tr>\n",
       "  </tbody>\n",
       "</table>\n",
       "</div>"
      ],
      "text/plain": [
       "   SepalLength SepalWidth PetalLength PetalWidth      Species\n",
       "0          5.1        3.5         1.4        0.2  Iris-setosa\n",
       "1          4.9          3         1.4        0.2  Iris-setosa\n",
       "2          4.7        3.2         1.3        0.2  Iris-setosa\n",
       "3          4.6        3.1         1.5        0.2  Iris-setosa\n",
       "4            5        3.6         1.4        0.2  Iris-setosa\n",
       "5          5.4        3.9         1.7        0.4  Iris-setosa\n",
       "6          4.6        3.4         1.4        0.3  Iris-setosa\n",
       "7            5        3.4         1.5        0.2  Iris-setosa\n",
       "8          4.4        2.9         1.4        0.2  Iris-setosa\n",
       "9          4.9        3.1         1.5        0.1  Iris-setosa\n",
       "10         5.4        3.7         1.5        0.2  Iris-setosa\n",
       "11         4.8        3.4         1.6        0.2  Iris-setosa\n",
       "12         4.8          3         1.4        0.1  Iris-setosa\n",
       "13         4.3          3         1.1        0.1  Iris-setosa\n",
       "14         5.8          4         1.2        0.2  Iris-setosa\n",
       "15         5.7        4.4         1.5        0.4  Iris-setosa\n",
       "16         5.4        3.9         1.3        0.4  Iris-setosa\n",
       "17         5.1        3.5         1.4        0.3  Iris-setosa\n",
       "18         5.7        3.8         1.7        0.3  Iris-setosa\n",
       "19         5.1        3.8         1.5        0.3  Iris-setosa"
      ]
     },
     "execution_count": 13,
     "metadata": {},
     "output_type": "execute_result"
    }
   ],
   "source": [
    "# Convert a matrix to a dataframe\n",
    "iris_new = pd.DataFrame(iris_mat, columns=['SepalLength','SepalWidth','PetalLength','PetalWidth','Species'])\n",
    "\n",
    "# Display the top 20 rows\n",
    "iris_new.head(20)"
   ]
  },
  {
   "cell_type": "markdown",
   "metadata": {},
   "source": [
    "**Creating new attributes**  \n",
    "It is also easy to add new, derived attributes to your dataframe."
   ]
  },
  {
   "cell_type": "code",
   "execution_count": 14,
   "metadata": {
    "collapsed": false
   },
   "outputs": [
    {
     "data": {
      "text/plain": [
       "0.25    15.645\n",
       "0.50     17.66\n",
       "0.75    20.325\n",
       "Name: Sepal, dtype: object"
      ]
     },
     "execution_count": 14,
     "metadata": {},
     "output_type": "execute_result"
    }
   ],
   "source": [
    "# Creating a new field called Sepal which is the product of sepal length and sepal width\n",
    "iris_new['Sepal'] = iris_new['SepalLength'] * iris_new['SepalWidth']\n",
    "\n",
    "# Getting the Sepal values at the 25th, 50th, and 75th percentiles\n",
    "iris_new['Sepal'].quantile([0.25, 0.5, 0.75])"
   ]
  },
  {
   "cell_type": "markdown",
   "metadata": {},
   "source": [
    "**Scipy**  \n",
    "The Scipy package comes with a ton of statistical tools for data science. In the example below we will test whether or not there is a statistically significant difference between Petal Width of two species of Iris."
   ]
  },
  {
   "cell_type": "code",
   "execution_count": 15,
   "metadata": {
    "collapsed": false
   },
   "outputs": [],
   "source": [
    "from scipy import stats\n",
    "\n",
    "# Grabbing the petal width for all setosa specicies\n",
    "virginica = iris_new[iris_new['Species'] == 'Iris-virginica']['PetalWidth']\n",
    "\n",
    "# Grabbing the petal width for all versicolor specicies\n",
    "versicolor = iris_new[iris_new['Species'] == 'Iris-versicolor']['PetalWidth']"
   ]
  },
  {
   "cell_type": "markdown",
   "metadata": {},
   "source": [
    "We will perform a Mann-Whitney-Wilcoxon (MWW) RankSum test, which does not assume a guassian distribution of the data. If the p-value is less than 0.05 we can confidently say there is a difference between the distributions of the two groups."
   ]
  },
  {
   "cell_type": "code",
   "execution_count": 16,
   "metadata": {
    "collapsed": false
   },
   "outputs": [
    {
     "name": "stdout",
     "output_type": "stream",
     "text": [
      "MWW RankSum p-value 0.000000000000000\n"
     ]
    }
   ],
   "source": [
    "# Perform a MWW test\n",
    "z_stat, p_val = stats.ranksums(virginica, versicolor)\n",
    "\n",
    "# Print the p-value. Note I have specified I want to print a floating point decimal with 15 decimals after the period\n",
    "print('MWW RankSum p-value %0.15f' % p_val)"
   ]
  },
  {
   "cell_type": "markdown",
   "metadata": {},
   "source": [
    "Again using seaborn, we can visualize the distributions. Visually, you can see how different the distributions are. Ignore the deprecation warning."
   ]
  },
  {
   "cell_type": "code",
   "execution_count": 17,
   "metadata": {
    "collapsed": false
   },
   "outputs": [
    {
     "name": "stderr",
     "output_type": "stream",
     "text": [
      "C:\\Users\\dane.arnesen\\AppData\\Local\\Continuum\\Anaconda3\\lib\\site-packages\\statsmodels\\nonparametric\\kdetools.py:20: VisibleDeprecationWarning: using a non-integer number instead of an integer will result in an error in the future\n",
      "  y = X[:m/2+1] + np.r_[0,X[m/2+1:],0]*1j\n"
     ]
    },
    {
     "data": {
      "text/plain": [
       "<matplotlib.axes._subplots.AxesSubplot at 0xc9aff98>"
      ]
     },
     "execution_count": 17,
     "metadata": {},
     "output_type": "execute_result"
    },
    {
     "data": {
      "image/png": "[encoded data removed]",
      "text/plain": [
       "<matplotlib.figure.Figure at 0xc6b6438>"
      ]
     },
     "metadata": {},
     "output_type": "display_data"
    }
   ],
   "source": [
    "# Visualizing the distributions\n",
    "sns.distplot(virginica)\n",
    "sns.distplot(versicolor)"
   ]
  },
  {
   "cell_type": "markdown",
   "metadata": {},
   "source": [
    "**Next Steps**  \n",
    "I hope you enjoyed this Python tutorial. Feel free to reach out with any questions that you may have. I encourage you to explore the online tutorials, as well as Stack Overflow. Chances are if you have a question, someone else has already asked it. Happy coding."
   ]
  },
  {
   "cell_type": "code",
   "execution_count": null,
   "metadata": {
    "collapsed": true
   },
   "outputs": [],
   "source": []
  }
 ],
 "metadata": {
  "kernelspec": {
   "display_name": "Python 3",
   "language": "python",
   "name": "python3"
  },
  "language_info": {
   "codemirror_mode": {
    "name": "ipython",
    "version": 3
   },
   "file_extension": ".py",
   "mimetype": "text/x-python",
   "name": "python",
   "nbconvert_exporter": "python",
   "pygments_lexer": "ipython3",
   "version": "3.6.0"
  }
 },
 "nbformat": 4,
 "nbformat_minor": 2
}
